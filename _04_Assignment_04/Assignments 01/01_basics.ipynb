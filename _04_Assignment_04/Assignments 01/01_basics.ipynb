{
  "nbformat": 4,
  "nbformat_minor": 0,
  "metadata": {
    "colab": {
      "provenance": []
    },
    "kernelspec": {
      "name": "python3",
      "display_name": "Python 3"
    },
    "language_info": {
      "name": "python"
    }
  },
  "cells": [
    {
      "cell_type": "markdown",
      "source": [
        "#01_basics\n",
        "##00_joke_bot"
      ],
      "metadata": {
        "id": "AFpS_e5FOoM1"
      }
    },
    {
      "cell_type": "code",
      "execution_count": 9,
      "metadata": {
        "colab": {
          "base_uri": "https://localhost:8080/"
        },
        "id": "xGWWGDvvOnZn",
        "outputId": "4ba80df6-44f8-48c3-cbf1-63736f557f9b"
      },
      "outputs": [
        {
          "output_type": "stream",
          "name": "stdout",
          "text": [
            "Type joke: joke\n",
            "Here is a joke for you! Sophia is heading out to the grocery store. A programmer tells her: get a liter of milk, and if they have eggs, get 12. Sophia returns with 13 liters of milk. The programmer asks why and Sophia replies: 'because they had eggs\n"
          ]
        }
      ],
      "source": [
        "prompt: str = \"What do you want? \"\n",
        "joke: str = \"Here is a joke for you! Sophia is heading out to the grocery store. A programmer tells her: get a liter of milk, and if they have eggs, get 12. Sophia returns with 13 liters of milk. The programmer asks why and Sophia replies: 'because they had eggs\"\n",
        "sorry: str = \"Sorry i only tell jokes.\"\n",
        "\n",
        "def main():\n",
        "  user_input: str = input(\"Type joke: \")\n",
        "  user_input.strip().lower\n",
        "\n",
        "  if \"joke\" in user_input:\n",
        "    print(joke)\n",
        "  else:\n",
        "    print(sorry)\n",
        "if __name__ == \"__main__\":\n",
        "  main()"
      ]
    },
    {
      "cell_type": "markdown",
      "source": [
        "##01_double_it"
      ],
      "metadata": {
        "id": "ZzD78T_ZRnKN"
      }
    },
    {
      "cell_type": "code",
      "source": [
        "def double(curr_value):\n",
        "  while curr_value < 100:\n",
        "    double = curr_value * 2\n",
        "    print(f\"{curr_value} double is {double}\")\n",
        "    curr_value = double\n",
        "\n",
        "def main():\n",
        "  num = int(input(\"Enter a number you want to double it: \"))\n",
        "  double(num)\n",
        "if __name__ == \"__main__\":\n",
        "  main()"
      ],
      "metadata": {
        "colab": {
          "base_uri": "https://localhost:8080/"
        },
        "id": "dR4msPQ2Rn2E",
        "outputId": "5ea400fb-443d-4a88-94ca-85250931e28a"
      },
      "execution_count": 18,
      "outputs": [
        {
          "output_type": "stream",
          "name": "stdout",
          "text": [
            "Enter a number you want to double it: 2\n",
            "2 double is 4\n",
            "4 double is 8\n",
            "8 double is 16\n",
            "16 double is 32\n",
            "32 double is 64\n",
            "64 double is 128\n"
          ]
        }
      ]
    },
    {
      "cell_type": "markdown",
      "source": [
        "##02_liftoff"
      ],
      "metadata": {
        "id": "4CMuwVsyUgD9"
      }
    },
    {
      "cell_type": "code",
      "source": [
        "def main():\n",
        "  for i in range(10,0,-1):\n",
        "    print(i, end=\" \")\n",
        "  else:\n",
        "    print(\"Lift Off!\")\n",
        "if __name__ == \"__main__\":\n",
        "  main()"
      ],
      "metadata": {
        "colab": {
          "base_uri": "https://localhost:8080/"
        },
        "id": "qJ_DvlqtUgvk",
        "outputId": "5f8deaaa-5fe8-4dcc-8739-7790fe5a4630"
      },
      "execution_count": 20,
      "outputs": [
        {
          "output_type": "stream",
          "name": "stdout",
          "text": [
            "10 9 8 7 6 5 4 3 2 1 Lift Off!\n"
          ]
        }
      ]
    },
    {
      "cell_type": "markdown",
      "source": [
        "##03_guess_my_number"
      ],
      "metadata": {
        "id": "R4H5O5LBVC7F"
      }
    },
    {
      "cell_type": "code",
      "source": [
        "import random\n",
        "\n",
        "secret_num = random.randint(1,99)\n",
        "def main():\n",
        "  print(\"Guess a number between 1 and 99\")\n",
        "  user_guess = int(input(\"Guess a number: \"))\n",
        "  while user_guess != secret_num:\n",
        "    if user_guess > secret_num:\n",
        "      print(\"Your guess is too high\")\n",
        "      user_guess = int(input(\"Guess a number: \"))\n",
        "    else:\n",
        "      print(\"Your guess is too low\")\n",
        "      user_guess = int(input(\"Guess a number: \"))\n",
        "  print(\"Congrats you guessed correctly!\")\n",
        "if __name__ == \"__main__\":\n",
        "  main()"
      ],
      "metadata": {
        "colab": {
          "base_uri": "https://localhost:8080/"
        },
        "id": "CqOv2spDWaFl",
        "outputId": "ae45318a-b153-4eec-c398-adc5a551db4c"
      },
      "execution_count": 3,
      "outputs": [
        {
          "output_type": "stream",
          "name": "stdout",
          "text": [
            "Guess a number between 1 and 99\n",
            "Guess a number: 40\n",
            "Your guess is too low\n",
            "Guess a number: 50\n",
            "Your guess is too high\n",
            "Guess a number: 45\n",
            "Your guess is too low\n",
            "Guess a number: 47\n",
            "Congrats you guessed correctly!\n"
          ]
        }
      ]
    },
    {
      "cell_type": "markdown",
      "source": [
        "##04_random_numbers"
      ],
      "metadata": {
        "id": "1ueyrCW1YDud"
      }
    },
    {
      "cell_type": "code",
      "source": [
        "import random\n",
        "n_num: int = 10\n",
        "min_value: int = 1\n",
        "max_value: int = 100\n",
        "\n",
        "def main():\n",
        "  for i in range(n_num):\n",
        "    value = random.randint(min_value, max_value)\n",
        "    print(value, end=\" \")\n",
        "if __name__ == \"__main__\":\n",
        "  main()"
      ],
      "metadata": {
        "colab": {
          "base_uri": "https://localhost:8080/"
        },
        "id": "ROiO1f2zYFoc",
        "outputId": "b6e8d946-b721-4377-92a2-4ad7fd70d514"
      },
      "execution_count": 6,
      "outputs": [
        {
          "output_type": "stream",
          "name": "stdout",
          "text": [
            "40 57 82 67 70 50 61 33 77 69 "
          ]
        }
      ]
    }
  ]
}