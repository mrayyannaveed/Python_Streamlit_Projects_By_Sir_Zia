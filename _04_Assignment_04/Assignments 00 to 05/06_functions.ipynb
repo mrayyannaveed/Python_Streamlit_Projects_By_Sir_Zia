{
  "nbformat": 4,
  "nbformat_minor": 0,
  "metadata": {
    "colab": {
      "provenance": []
    },
    "kernelspec": {
      "name": "python3",
      "display_name": "Python 3"
    },
    "language_info": {
      "name": "python"
    }
  },
  "cells": [
    {
      "cell_type": "markdown",
      "source": [
        "#06_functions\n",
        "##00_averages"
      ],
      "metadata": {
        "id": "PUYDWEp57yrB"
      }
    },
    {
      "cell_type": "code",
      "execution_count": 2,
      "metadata": {
        "colab": {
          "base_uri": "https://localhost:8080/"
        },
        "id": "m34HnE737wM1",
        "outputId": "ab6cfdbb-48f9-4952-bd72-7921843f3e48"
      },
      "outputs": [
        {
          "output_type": "stream",
          "name": "stdout",
          "text": [
            "avg1: 5.0\n",
            "avg2: 17.0\n",
            "final: 11.0\n"
          ]
        }
      ],
      "source": [
        "def average(a: float, b: float):\n",
        "  sum = a + b\n",
        "  return sum / 2\n",
        "\n",
        "def main():\n",
        "  avg1 = average(0, 10)\n",
        "  avg2 = average(8, 26)\n",
        "  final = average(avg1, avg2)\n",
        "\n",
        "  print(f\"avg1: {avg1}\")\n",
        "  print(f\"avg2: {avg2}\")\n",
        "  print(f\"final: {final}\")\n",
        "if __name__ == \"__main__\":\n",
        "  main()"
      ]
    },
    {
      "cell_type": "markdown",
      "source": [
        "##01_chaotic_counting"
      ],
      "metadata": {
        "id": "AyWBzU4h-SIZ"
      }
    },
    {
      "cell_type": "code",
      "source": [
        "import random\n",
        "def chaotic_counting():\n",
        "  for i in range(10):\n",
        "    curr_num = i + 1\n",
        "    if done():\n",
        "      return\n",
        "    print(curr_num)\n",
        "\n",
        "def done():\n",
        "  if random.random() < 0:\n",
        "    return True\n",
        "  return False\n",
        "\n",
        "def main():\n",
        "  print(\"I am going to count until 10 or until i feel like stopping, which ever comes first.\")\n",
        "  chaotic_counting()\n",
        "  print(\"I'm Done\")\n",
        "\n",
        "if __name__ == \"__main__\":\n",
        "  main()"
      ],
      "metadata": {
        "colab": {
          "base_uri": "https://localhost:8080/"
        },
        "id": "oPncL5Te8oBx",
        "outputId": "cdf862c5-08b1-4fc6-f2a1-016344b2fa2c"
      },
      "execution_count": 13,
      "outputs": [
        {
          "output_type": "stream",
          "name": "stdout",
          "text": [
            "I am going to count until 10 or until i feel like stopping, which ever comes first.\n",
            "1\n",
            "2\n",
            "3\n",
            "4\n",
            "5\n",
            "6\n",
            "7\n",
            "8\n",
            "9\n",
            "10\n",
            "I'm Done\n"
          ]
        }
      ]
    },
    {
      "cell_type": "markdown",
      "source": [
        "##02_count_even"
      ],
      "metadata": {
        "id": "nrJ1vHLNACTR"
      }
    },
    {
      "cell_type": "code",
      "source": [
        "def count_even(lst):\n",
        "  count = 0\n",
        "  for num in lst:\n",
        "    if num % 2 == 0:\n",
        "      count += 1\n",
        "\n",
        "  print(f\"Number of even counts: {count}\")\n",
        "\n",
        "def get_lst_of_ints():\n",
        "  lst = []\n",
        "  value = input(\"Enter a number or press enter to exit: \")\n",
        "  while value:\n",
        "    lst.append(int(value))\n",
        "    value = input(\"Enter a number or press enter to exit: \")\n",
        "\n",
        "  return lst\n",
        "\n",
        "def main():\n",
        "  lst = get_lst_of_ints()\n",
        "  count_even(lst)\n",
        "\n",
        "if __name__ == \"__main__\":\n",
        "  main()"
      ],
      "metadata": {
        "colab": {
          "base_uri": "https://localhost:8080/"
        },
        "id": "oqXbrxj9wGtD",
        "outputId": "44af1939-81ba-477e-d06a-edda893d67e7"
      },
      "execution_count": 41,
      "outputs": [
        {
          "output_type": "stream",
          "name": "stdout",
          "text": [
            "Enter a number or press enter to exit: 9\n",
            "Enter a number or press enter to exit: 8\n",
            "Enter a number or press enter to exit: 7\n",
            "Enter a number or press enter to exit: 6\n",
            "Enter a number or press enter to exit: 5\n",
            "Enter a number or press enter to exit: 4\n",
            "Enter a number or press enter to exit: \n",
            "Number of even counts: 3\n"
          ]
        }
      ]
    },
    {
      "cell_type": "markdown",
      "source": [
        "##04_double"
      ],
      "metadata": {
        "id": "A46SL5I-CEfB"
      }
    },
    {
      "cell_type": "code",
      "source": [
        "def double(num: int):\n",
        "  return num * 2\n",
        "\n",
        "def main():\n",
        "  num = int(input(\"Enter a number: \"))\n",
        "  num_times_2 = double(num)\n",
        "  print(f\"{num} double that is {num_times_2}\")\n",
        "if __name__ == \"__main__\":\n",
        "  main()"
      ],
      "metadata": {
        "colab": {
          "base_uri": "https://localhost:8080/"
        },
        "id": "pQ6QM9kZADqA",
        "outputId": "0cb03fc7-64ee-41f8-811e-6c8198631f86"
      },
      "execution_count": 15,
      "outputs": [
        {
          "output_type": "stream",
          "name": "stdout",
          "text": [
            "Enter a number: 1947\n",
            "1947 double that is 3894\n"
          ]
        }
      ]
    },
    {
      "cell_type": "markdown",
      "source": [
        "##05_get_name"
      ],
      "metadata": {
        "id": "sjvvbbqxDHxJ"
      }
    },
    {
      "cell_type": "code",
      "source": [
        "def get_name():\n",
        "  return input(\"Name: \")\n",
        "\n",
        "def main():\n",
        "  name = get_name()\n",
        "  print(f\"Howdy {name}! 🤠\")\n",
        "if __name__ == \"__main__\":\n",
        "  main()"
      ],
      "metadata": {
        "colab": {
          "base_uri": "https://localhost:8080/"
        },
        "id": "U92_yJ1WDKN4",
        "outputId": "36f46876-c04a-4151-d6c0-53d966768995"
      },
      "execution_count": 16,
      "outputs": [
        {
          "output_type": "stream",
          "name": "stdout",
          "text": [
            "Name: Muhammad Rayyan\n",
            "Howdy Muhammad Rayyan! 🤠\n"
          ]
        }
      ]
    },
    {
      "cell_type": "markdown",
      "source": [
        "##06_is_odd"
      ],
      "metadata": {
        "id": "RkeauF8MEEzh"
      }
    },
    {
      "cell_type": "code",
      "source": [
        "def main():\n",
        "  for i in range(10):\n",
        "    if is_odd(i):\n",
        "      print(f\"{i} odd\")\n",
        "    else:\n",
        "      print(f\"{i} even\")\n",
        "\n",
        "def is_odd(value: int):\n",
        "  remainder = value % 2\n",
        "  return remainder == 1\n",
        "\n",
        "if __name__ == \"__main__\":\n",
        "  main()"
      ],
      "metadata": {
        "colab": {
          "base_uri": "https://localhost:8080/"
        },
        "id": "Ow_5FEd9EFio",
        "outputId": "768da660-cb2f-422e-ba22-deb01f2d9b33"
      },
      "execution_count": 18,
      "outputs": [
        {
          "output_type": "stream",
          "name": "stdout",
          "text": [
            "0 even\n",
            "1 odd\n",
            "2 even\n",
            "3 odd\n",
            "4 even\n",
            "5 odd\n",
            "6 even\n",
            "7 odd\n",
            "8 even\n",
            "9 odd\n"
          ]
        }
      ]
    },
    {
      "cell_type": "markdown",
      "source": [
        "##07_print_divisor"
      ],
      "metadata": {
        "id": "sY-6gCrOFlDB"
      }
    },
    {
      "cell_type": "code",
      "source": [
        "def print_divisor(num: int):\n",
        "  print(f\"Here are the divisor of {num}\")\n",
        "  for i in range(0, num):\n",
        "    curr_divisor = i + 1\n",
        "    if num % curr_divisor == 0:\n",
        "      print(curr_divisor)\n",
        "def main():\n",
        "  num = int(input(\"Enter a number to find its divisor: \"))\n",
        "  print_divisor(num)\n",
        "if __name__ == \"__main__\":\n",
        "  main()"
      ],
      "metadata": {
        "colab": {
          "base_uri": "https://localhost:8080/"
        },
        "id": "eHl3NtKZFltg",
        "outputId": "6fb2f0fb-68c9-46bd-ba4b-aa89e950acba"
      },
      "execution_count": 26,
      "outputs": [
        {
          "output_type": "stream",
          "name": "stdout",
          "text": [
            "Enter a number to find its divisor: 24\n",
            "Here are the divisor of 24\n",
            "1\n",
            "2\n",
            "3\n",
            "4\n",
            "6\n",
            "8\n",
            "12\n",
            "24\n"
          ]
        }
      ]
    },
    {
      "cell_type": "markdown",
      "source": [
        "##08_print_multiple"
      ],
      "metadata": {
        "id": "a7oKY7zsHwyp"
      }
    },
    {
      "cell_type": "code",
      "source": [
        "def print_multiple(message, repeats):\n",
        "  for i in range(repeats):\n",
        "    print(message)\n",
        "def main():\n",
        "  message = input(\"Please type a message: \")\n",
        "  repeats = int(input(\"Enter a number of times to repeat your message: \"))\n",
        "  print_multiple(message, repeats)\n",
        "if __name__ == \"__main__\":\n",
        "  main()"
      ],
      "metadata": {
        "colab": {
          "base_uri": "https://localhost:8080/"
        },
        "id": "VGgNn0sPHxvI",
        "outputId": "2e17fcd8-29ee-4a99-afeb-158d1d152881"
      },
      "execution_count": 28,
      "outputs": [
        {
          "output_type": "stream",
          "name": "stdout",
          "text": [
            "Please type a message: Pakistan Zindabad!\n",
            "Enter a number of times to repeat your message: 7\n",
            "Pakistan Zindabad!\n",
            "Pakistan Zindabad!\n",
            "Pakistan Zindabad!\n",
            "Pakistan Zindabad!\n",
            "Pakistan Zindabad!\n",
            "Pakistan Zindabad!\n",
            "Pakistan Zindabad!\n"
          ]
        }
      ]
    },
    {
      "cell_type": "markdown",
      "source": [
        "##09_sentence_generator"
      ],
      "metadata": {
        "id": "adEHjWFbq4Tr"
      }
    },
    {
      "cell_type": "code",
      "source": [
        "def make_sentence(word, part_of_speech):\n",
        "  if part_of_speech == 0:\n",
        "    print(f\"I am excited to add this {word} to my vast collection of them!\")\n",
        "  elif part_of_speech == 1:\n",
        "    print(f\"It's so nice outside today it makes me want to {word}!\")\n",
        "  elif part_of_speech == 2:\n",
        "    print(f\"Looking out my window, the sky is big and {word}!\")\n",
        "  else:\n",
        "    print(\"Part of speech must be 0, 1 or 2! can't make sentence\")\n",
        "\n",
        "def main():\n",
        "  word = input(\"Type a noun, verb or adjective: \")\n",
        "  print(\"Is this a noun verb or adjective!\")\n",
        "  part_of_speech = int(input(\"Type 0 for noun, 1 for verb, 2 for adjective: \"))\n",
        "  make_sentence(word, part_of_speech)\n",
        "\n",
        "if __name__ == \"__main__\":\n",
        "  main()"
      ],
      "metadata": {
        "colab": {
          "base_uri": "https://localhost:8080/"
        },
        "id": "ordD6q-mq5FR",
        "outputId": "f952df28-f7fe-4fc8-f10c-cbef91a05693"
      },
      "execution_count": 30,
      "outputs": [
        {
          "output_type": "stream",
          "name": "stdout",
          "text": [
            "Type a noun, verb or adjective: tree\n",
            "Is this a noun verb or adjective!\n",
            "Type 0 for noun, 1 for verb, 2 for adjective: 0\n",
            "I am excited to add this tree to my vast collection of them!\n"
          ]
        }
      ]
    },
    {
      "cell_type": "markdown",
      "source": [
        "##10_print_ones_digit"
      ],
      "metadata": {
        "id": "zbXU-7EuuqnE"
      }
    },
    {
      "cell_type": "code",
      "source": [
        "def print_ones_digit(num: int):\n",
        "  print(f\"The one's digit is: {num % 10}\")\n",
        "\n",
        "def main():\n",
        "  num = int(input(\"Enter a number: \"))\n",
        "  print_ones_digit(num)\n",
        "if __name__ == \"__main__\":\n",
        "  main()"
      ],
      "metadata": {
        "colab": {
          "base_uri": "https://localhost:8080/"
        },
        "id": "82S6fiu0urPJ",
        "outputId": "96b2228f-e569-41c2-cb5e-fa15fec9c974"
      },
      "execution_count": 36,
      "outputs": [
        {
          "output_type": "stream",
          "name": "stdout",
          "text": [
            "Enter a number: 2025\n",
            "The one's digit is: 5\n"
          ]
        }
      ]
    }
  ]
}