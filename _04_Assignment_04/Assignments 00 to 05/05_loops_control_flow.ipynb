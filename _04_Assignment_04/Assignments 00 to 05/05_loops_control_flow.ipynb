{
  "nbformat": 4,
  "nbformat_minor": 0,
  "metadata": {
    "colab": {
      "provenance": []
    },
    "kernelspec": {
      "name": "python3",
      "display_name": "Python 3"
    },
    "language_info": {
      "name": "python"
    }
  },
  "cells": [
    {
      "cell_type": "markdown",
      "source": [
        "#05_loops_control_flow\n",
        "##00_guess_my_number"
      ],
      "metadata": {
        "id": "y-3VUWDX_K--"
      }
    },
    {
      "cell_type": "code",
      "execution_count": null,
      "metadata": {
        "colab": {
          "base_uri": "https://localhost:8080/"
        },
        "id": "x29nq0MW_KIJ",
        "outputId": "3a89e221-26a1-4f0a-82d5-89f543ab6939"
      },
      "outputs": [
        {
          "output_type": "stream",
          "name": "stdout",
          "text": [
            "Guess a number between 1 and 99\n",
            "Enter a guess: 25\n",
            "Your guess is too high\n",
            "\n",
            "Enter a new guess: 15\n",
            "Your guess is too low\n",
            "\n",
            "Enter a new guess: 20\n",
            "Your guess is too high\n",
            "\n",
            "Enter a new guess: 18\n",
            "Your guess is too high\n",
            "\n",
            "Enter a new guess: 17\n",
            "Your guess is too high\n",
            "\n",
            "Enter a new guess: 16\n",
            "Congrats! The number was 16\n"
          ]
        }
      ],
      "source": [
        "import random\n",
        "\n",
        "def main():\n",
        "  secret_num = random.randint(1,99)\n",
        "\n",
        "  print(\"Guess a number between 1 and 99\")\n",
        "  guess = int(input(\"Enter a guess: \"))\n",
        "  while guess != secret_num:\n",
        "    if guess > secret_num:\n",
        "      print(\"Your guess is too high\")\n",
        "    else:\n",
        "      print(\"Your guess is too low\")\n",
        "\n",
        "    print()\n",
        "    guess = int(input(\"Enter a new guess: \"))\n",
        "\n",
        "  print(f\"Congrats! The number was {str(secret_num)}\")\n",
        "\n",
        "if __name__ == \"__main__\":\n",
        "  main()"
      ]
    },
    {
      "cell_type": "markdown",
      "source": [
        "##01_fibonacci"
      ],
      "metadata": {
        "id": "-3mDkkz7LYXt"
      }
    },
    {
      "cell_type": "code",
      "source": [
        "max_term_value: int = 10000\n",
        "\n",
        "def main():\n",
        "  curr_term = 0\n",
        "  next_term = 1\n",
        "  while curr_term <= max_term_value:\n",
        "    print(curr_term, end=\" \")\n",
        "    term_after_next= curr_term + next_term\n",
        "    curr_term = next_term\n",
        "    next_term = term_after_next\n",
        "\n",
        "if __name__ == \"__main__\":\n",
        "  main()"
      ],
      "metadata": {
        "colab": {
          "base_uri": "https://localhost:8080/"
        },
        "id": "uaTAJ2iXLZOF",
        "outputId": "eb0f3aa3-9aa3-41e2-a7a1-5676b9ffefb3"
      },
      "execution_count": null,
      "outputs": [
        {
          "output_type": "stream",
          "name": "stdout",
          "text": [
            "0 1 1 2 3 5 8 13 21 34 55 89 144 233 377 610 987 1597 2584 4181 6765 "
          ]
        }
      ]
    },
    {
      "cell_type": "markdown",
      "source": [
        "##02_print_events"
      ],
      "metadata": {
        "id": "J__FOpGmmWjY"
      }
    },
    {
      "cell_type": "code",
      "source": [
        "def main():\n",
        "  for i in range(20):\n",
        "    print(i * 2, end=\" \")\n",
        "\n",
        "if __name__ == \"__main__\":\n",
        "  main()"
      ],
      "metadata": {
        "colab": {
          "base_uri": "https://localhost:8080/"
        },
        "id": "at1SNQQwmX0H",
        "outputId": "5daaf34c-cdda-4924-e384-7e8f2be227f2"
      },
      "execution_count": 1,
      "outputs": [
        {
          "output_type": "stream",
          "name": "stdout",
          "text": [
            "0 2 4 6 8 10 12 14 16 18 20 22 24 26 28 30 32 34 36 38 "
          ]
        }
      ]
    },
    {
      "cell_type": "markdown",
      "source": [
        "##03_wholesome_machine"
      ],
      "metadata": {
        "id": "jz0E2JFsoIUu"
      }
    },
    {
      "cell_type": "code",
      "source": [
        "affirmation = \"I am capable of doing anything I put in my mind to.\"\n",
        "def main():\n",
        "\n",
        "  print(\"Please type the following affirmation: \"+ affirmation)\n",
        "  user_feedback = input()\n",
        "  while user_feedback != affirmation:\n",
        "    print(\"Please type the following affirmation: \"+ affirmation)\n",
        "    user_feedback = input()\n",
        "\n",
        "  print(\"That's right! :\")\n",
        "\n",
        "if __name__ == \"__main__\":\n",
        "  main()"
      ],
      "metadata": {
        "colab": {
          "base_uri": "https://localhost:8080/"
        },
        "id": "w3QejIVroJIW",
        "outputId": "2fb22218-719f-41e9-8760-3a66f222a216"
      },
      "execution_count": 2,
      "outputs": [
        {
          "output_type": "stream",
          "name": "stdout",
          "text": [
            "Please type the following affirmation: I am capable of doing anything I put in my mind to.\n",
            "I am capable of doing anything I put in my mind to.\n",
            "That's right! :\n"
          ]
        }
      ]
    },
    {
      "cell_type": "markdown",
      "source": [
        "##04_liftoff"
      ],
      "metadata": {
        "id": "IcAbNrNrql6O"
      }
    },
    {
      "cell_type": "code",
      "source": [
        "def main():\n",
        "  for i in range(10,0,-1):\n",
        "    print(i, end=\" \")\n",
        "  else:\n",
        "    print(\"Liftoff!\")\n",
        "if __name__ == \"__main__\":\n",
        "  main()"
      ],
      "metadata": {
        "colab": {
          "base_uri": "https://localhost:8080/"
        },
        "id": "27QgVrgvqmnV",
        "outputId": "009a5704-dc15-4495-b041-7228271db0c2"
      },
      "execution_count": 4,
      "outputs": [
        {
          "output_type": "stream",
          "name": "stdout",
          "text": [
            "10 9 8 7 6 5 4 3 2 1 Liftoff!\n"
          ]
        }
      ]
    },
    {
      "cell_type": "markdown",
      "source": [
        "##05_double_it"
      ],
      "metadata": {
        "id": "PXWFV01BrVEl"
      }
    },
    {
      "cell_type": "code",
      "source": [
        "def main():\n",
        "  curr_value = int(input(\"Enter a number you want to doubled: \"))\n",
        "  while curr_value < 100:\n",
        "    doubled_value = curr_value * 2\n",
        "    print(f\"{curr_value} doubled is {doubled_value}\")\n",
        "    curr_value = doubled_value\n",
        "\n",
        "  print(f\"We stopped at {curr_value} because it is greater than 100\")\n",
        "\n",
        "if __name__ == \"__main__\":\n",
        "  main()"
      ],
      "metadata": {
        "colab": {
          "base_uri": "https://localhost:8080/"
        },
        "id": "lH0LS5ZorVuc",
        "outputId": "77003963-f8a6-4bff-d465-f1ab08237df1"
      },
      "execution_count": 7,
      "outputs": [
        {
          "output_type": "stream",
          "name": "stdout",
          "text": [
            "Enter a number you want to doubled: 2\n",
            "2 doubled is 4\n",
            "4 doubled is 8\n",
            "8 doubled is 16\n",
            "16 doubled is 32\n",
            "32 doubled is 64\n",
            "64 doubled is 128\n",
            "We stopped at 128 because it is greater than 100\n"
          ]
        }
      ]
    }
  ]
}