{
  "nbformat": 4,
  "nbformat_minor": 0,
  "metadata": {
    "colab": {
      "provenance": []
    },
    "kernelspec": {
      "name": "python3",
      "display_name": "Python 3"
    },
    "language_info": {
      "name": "python"
    }
  },
  "cells": [
    {
      "cell_type": "markdown",
      "source": [
        "#03_if_statements\n",
        "##01_print_events"
      ],
      "metadata": {
        "id": "Ys6jZDSio29q"
      }
    },
    {
      "cell_type": "code",
      "execution_count": 3,
      "metadata": {
        "colab": {
          "base_uri": "https://localhost:8080/"
        },
        "id": "Hj9w5y3qn6mf",
        "outputId": "4cdba4dd-b55f-45e1-ebed-b6eb907d6fe9"
      },
      "outputs": [
        {
          "output_type": "stream",
          "name": "stdout",
          "text": [
            "0 2 4 6 8 10 12 14 16 18 20 22 24 26 28 30 32 34 36 38 40 "
          ]
        }
      ],
      "source": [
        "def main():\n",
        "  for i in range(21):\n",
        "    print(i * 2, end=\" \")\n",
        "\n",
        "if __name__ == \"__main__\":\n",
        "  main()"
      ]
    },
    {
      "cell_type": "markdown",
      "source": [
        "##02_international_voting_age"
      ],
      "metadata": {
        "id": "LqV34jRorXYC"
      }
    },
    {
      "cell_type": "code",
      "source": [
        "Peturksbouipo_age: int = 16\n",
        "Stanlau_age: int = 25\n",
        "Mayengua_age: int = 48\n",
        "\n",
        "def main():\n",
        "  user_age = int(input(\"Enter your age: \"))\n",
        "\n",
        "  if user_age >= Peturksbouipo_age:\n",
        "    print(f\"You can vote in Peturksbouipo where's the voting age is : {str(Peturksbouipo_age)}.\")\n",
        "  else:\n",
        "    print(f\"You cannot vote in Peturksbouipo where's the voting age is : {str(Peturksbouipo_age)}.\")\n",
        "\n",
        "  if user_age >= Stanlau_age:\n",
        "    print(f\"You can vote in Stanlau where's the voting age is : {str(Stanlau_age)}.\")\n",
        "  else:\n",
        "    print(f\"You cannot vote in Stanlau where's the voting age is : {str(Stanlau_age)}.\")\n",
        "\n",
        "  if user_age >= Mayengua_age:\n",
        "    print(f\"You can vote in Mayengua where's the voting age is : {str(Mayengua_age)}.\")\n",
        "  else:\n",
        "    print(f\"You cannot vote in Mayengua where's the voting age is : {str(Mayengua_age)}.\")\n",
        "\n",
        "if __name__ == \"__main__\":\n",
        "  main()"
      ],
      "metadata": {
        "colab": {
          "base_uri": "https://localhost:8080/"
        },
        "id": "dftjulfTrYgZ",
        "outputId": "129c908c-1d09-42e5-b078-b1fc75260024"
      },
      "execution_count": 4,
      "outputs": [
        {
          "output_type": "stream",
          "name": "stdout",
          "text": [
            "Enter your age: 26\n",
            "You can vote in Peturksbouipo where's the voting age is : 16.\n",
            "You can vote in Stanlau where's the voting age is : 25.\n",
            "You cannot vote in Mayengua where's the voting age is : 48.\n"
          ]
        }
      ]
    },
    {
      "cell_type": "markdown",
      "source": [
        "##03_leap_year"
      ],
      "metadata": {
        "id": "xejnR7DZB-5X"
      }
    },
    {
      "cell_type": "code",
      "source": [
        "def main():\n",
        "  year: int = int(input(\"Enter a year: \"))\n",
        "  if year % 4 == 0:\n",
        "    if year % 100 == 0:\n",
        "      if year % 400 == 0:\n",
        "        print(\"It's a leap year!\")\n",
        "      else:\n",
        "        print(\"It's not a leap year\")\n",
        "    else:\n",
        "      print(\"It's a leap year!\")\n",
        "  else:\n",
        "    print(\"It's not a leap year\")\n",
        "\n",
        "if __name__ == \"__main__\":\n",
        "  main()"
      ],
      "metadata": {
        "colab": {
          "base_uri": "https://localhost:8080/"
        },
        "id": "1qTtPRQkB_6-",
        "outputId": "14066511-1202-4cd5-d044-28f07e6c6473"
      },
      "execution_count": 9,
      "outputs": [
        {
          "output_type": "stream",
          "name": "stdout",
          "text": [
            "Enter a year: 2024\n",
            "It's a leap year!\n"
          ]
        }
      ]
    },
    {
      "cell_type": "markdown",
      "source": [
        "##04_tall_enough_to_ride"
      ],
      "metadata": {
        "id": "3Qz78j7DE0eQ"
      }
    },
    {
      "cell_type": "code",
      "source": [
        "maximum_height: int = 50\n",
        "def main():\n",
        "  height = float(input(\"How tall are you: \"))\n",
        "  if height >= maximum_height:\n",
        "    print(\"You are tall enough to ride\")\n",
        "  else:\n",
        "    print(\"You are not tall enough to ride, may be next year\")\n",
        "\n",
        "if __name__ == \"__main__\":\n",
        "  main()"
      ],
      "metadata": {
        "colab": {
          "base_uri": "https://localhost:8080/"
        },
        "id": "hSWE2FMfE2Bn",
        "outputId": "51185426-a646-4c33-ea3b-c39cf0d1c844"
      },
      "execution_count": 10,
      "outputs": [
        {
          "output_type": "stream",
          "name": "stdout",
          "text": [
            "How tall are you: 64\n",
            "You are tall enough to ride\n"
          ]
        }
      ]
    },
    {
      "cell_type": "markdown",
      "source": [
        "##05_random_numbers"
      ],
      "metadata": {
        "id": "rJFiC3szGrJZ"
      }
    },
    {
      "cell_type": "code",
      "source": [
        "import random\n",
        "def main():\n",
        "  for i in range(10):\n",
        "    value = random.randint(1,100)\n",
        "    print(value, end=\" \")\n",
        "\n",
        "if __name__ == \"__main__\":\n",
        "  main()"
      ],
      "metadata": {
        "colab": {
          "base_uri": "https://localhost:8080/"
        },
        "id": "3bPN8q7nGsZP",
        "outputId": "90a15eaf-96a8-4964-f98f-8d63c853a90d"
      },
      "execution_count": 18,
      "outputs": [
        {
          "output_type": "stream",
          "name": "stdout",
          "text": [
            "18 39 94 87 26 54 89 67 85 98 "
          ]
        }
      ]
    }
  ]
}