{
  "nbformat": 4,
  "nbformat_minor": 0,
  "metadata": {
    "colab": {
      "provenance": []
    },
    "kernelspec": {
      "name": "python3",
      "display_name": "Python 3"
    },
    "language_info": {
      "name": "python"
    }
  },
  "cells": [
    {
      "cell_type": "markdown",
      "source": [
        "#**00_intro_python**\n",
        "##01_add_two_numbers"
      ],
      "metadata": {
        "id": "FsZlPFMa2Ejd"
      }
    },
    {
      "cell_type": "code",
      "source": [
        "def main():\n",
        "  num1 = input(\"Enter first number: \")\n",
        "  num1:int = int(num1)\n",
        "  num2 = input(\"Enter second number: \")\n",
        "  num2:int = int(num2)\n",
        "  sum = num1 + num2\n",
        "  print(f\"The sum of {num1} and {num2} = {sum}\")\n",
        "\n",
        "if __name__ == \"__main__\":\n",
        "  main()"
      ],
      "metadata": {
        "colab": {
          "base_uri": "https://localhost:8080/"
        },
        "id": "FJLNAaYw2OYc",
        "outputId": "a43da1c5-ca1e-42b0-a929-6636c38cc76f"
      },
      "execution_count": null,
      "outputs": [
        {
          "output_type": "stream",
          "name": "stdout",
          "text": [
            "Enter first number: 45\n",
            "Enter second number: 85\n",
            "The sum of 45 and 85 = 130\n"
          ]
        }
      ]
    },
    {
      "cell_type": "markdown",
      "source": [
        "##02_agreement_bot"
      ],
      "metadata": {
        "id": "Nc-rN11rF09r"
      }
    },
    {
      "cell_type": "code",
      "source": [
        "def main():\n",
        "  animal: str = input(\"What is your favorite animal? \")\n",
        "  fav_animal = f\"My favorite animal is also {animal}!\"\n",
        "  print(fav_animal)\n",
        "\n",
        "if __name__ == \"__main__\":\n",
        "  main()"
      ],
      "metadata": {
        "colab": {
          "base_uri": "https://localhost:8080/"
        },
        "id": "DjzIprec3Mal",
        "outputId": "715d10ff-fe0e-4be7-d4ed-27001f12038c"
      },
      "execution_count": null,
      "outputs": [
        {
          "output_type": "stream",
          "name": "stdout",
          "text": [
            "What is your favorite animal? Markhor\n",
            "My favorite animal is also Markhor!\n"
          ]
        }
      ]
    },
    {
      "cell_type": "markdown",
      "source": [
        "##03_fahrenheit_to_celsius"
      ],
      "metadata": {
        "id": "NFnsUG23F5w6"
      }
    },
    {
      "cell_type": "code",
      "source": [
        "def main():\n",
        "  deg_fahrenheit: float = float(input(\"Enter temperature in fahrenheit: \"))\n",
        "  fahrenheit_to_celsius = (deg_fahrenheit - 32) * 5.0/9.0\n",
        "  temperature = f\"Temperature {deg_fahrenheit}F = {fahrenheit_to_celsius}C\"\n",
        "  print(temperature)\n",
        "\n",
        "if __name__ == \"__main__\":\n",
        "  main()"
      ],
      "metadata": {
        "colab": {
          "base_uri": "https://localhost:8080/"
        },
        "id": "i-OQMNvfGAKK",
        "outputId": "39b15159-9898-4757-f98e-a00752ac4628"
      },
      "execution_count": null,
      "outputs": [
        {
          "output_type": "stream",
          "name": "stdout",
          "text": [
            "Enter temperature in fahrenheit: 76\n",
            "Temperature 76.0F = 24.444444444444443C\n"
          ]
        }
      ]
    },
    {
      "cell_type": "markdown",
      "source": [
        "##04_how_old_are_they"
      ],
      "metadata": {
        "id": "2kpChWn-H6D6"
      }
    },
    {
      "cell_type": "code",
      "source": [
        "def main():\n",
        "  anton: int = 21\n",
        "  beth: int = 6 + anton\n",
        "  chen: int = 20 + beth\n",
        "  drew: int = chen + anton\n",
        "  ethan: int = chen\n",
        "\n",
        "  print(f\"Anton is {str(anton)}\")\n",
        "  print(f\"Beth is {str(beth)}\")\n",
        "  print(f\"Chen is {str(chen)}\")\n",
        "  print(f\"Drew is {str(drew)}\")\n",
        "  print(f\"Ethan is {str(ethan)}\")\n",
        "\n",
        "if __name__ == \"__main__\":\n",
        "  main()"
      ],
      "metadata": {
        "colab": {
          "base_uri": "https://localhost:8080/"
        },
        "id": "pe0Ko-UuHhFK",
        "outputId": "c9a4098b-d99e-4d6e-923c-4394d4951c2d"
      },
      "execution_count": null,
      "outputs": [
        {
          "output_type": "stream",
          "name": "stdout",
          "text": [
            "Anton is 21\n",
            "Beth is 27\n",
            "Chen is 47\n",
            "Drew is 68\n",
            "Ethan is 47\n"
          ]
        }
      ]
    },
    {
      "cell_type": "markdown",
      "source": [
        "##05_triangle_perimeter"
      ],
      "metadata": {
        "id": "Xi1UBbkKKgoi"
      }
    },
    {
      "cell_type": "code",
      "source": [
        "def main():\n",
        "  side1: float = float(input(\"Enter parameter of side1: \"))\n",
        "  side2: float = float(input(\"Enter parameter of side2: \"))\n",
        "  side3: float = float(input(\"Enter parameter of side3: \"))\n",
        "  print(f\"The parameter of the triangle is {str(side1 + side2 + side3)}\")\n",
        "\n",
        "if __name__ == \"__main__\":\n",
        "  main()"
      ],
      "metadata": {
        "colab": {
          "base_uri": "https://localhost:8080/"
        },
        "id": "n7BG8mqiKICS",
        "outputId": "5cdc9868-3926-4aeb-8425-52b1d9f11cda"
      },
      "execution_count": null,
      "outputs": [
        {
          "output_type": "stream",
          "name": "stdout",
          "text": [
            "Enter parameter of side1: 12\n",
            "Enter parameter of side2: 7.5\n",
            "Enter parameter of side3: 5\n",
            "The parameter of the triangle is 24.5\n"
          ]
        }
      ]
    },
    {
      "cell_type": "markdown",
      "source": [
        "##06_square_number"
      ],
      "metadata": {
        "id": "V-dTZPq5MC0C"
      }
    },
    {
      "cell_type": "code",
      "source": [
        "def main():\n",
        "  num: float = float(input(\"Enter a number to get its square: \"))\n",
        "  print(f\"Squared of {str(num)} = {num ** 2}\")\n",
        "\n",
        "if __name__ == \"__main__\":\n",
        "  main()"
      ],
      "metadata": {
        "colab": {
          "base_uri": "https://localhost:8080/"
        },
        "id": "edii4sLzLf8a",
        "outputId": "565baee1-966c-4e54-8a05-cb709403eb09"
      },
      "execution_count": null,
      "outputs": [
        {
          "output_type": "stream",
          "name": "stdout",
          "text": [
            "Enter a number to get its square: 45\n",
            "Squared of 45.0 = 2025.0\n"
          ]
        }
      ]
    }
  ]
}