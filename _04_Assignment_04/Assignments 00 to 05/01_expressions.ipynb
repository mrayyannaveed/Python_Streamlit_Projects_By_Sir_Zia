{
  "nbformat": 4,
  "nbformat_minor": 0,
  "metadata": {
    "colab": {
      "provenance": []
    },
    "kernelspec": {
      "name": "python3",
      "display_name": "Python 3"
    },
    "language_info": {
      "name": "python"
    }
  },
  "cells": [
    {
      "cell_type": "markdown",
      "source": [
        "#**01_expressions**\n",
        "##01_dicesimulator"
      ],
      "metadata": {
        "id": "evDxAE0JVeZw"
      }
    },
    {
      "cell_type": "code",
      "source": [
        "import random\n",
        "\n",
        "num_sides = 6\n",
        "\n",
        "def roll_dice():\n",
        "  die1: int = random.randint(1, num_sides)\n",
        "  die2: int = random.randint(1, num_sides)\n",
        "  total: int = die1 + die2\n",
        "  print(f\"Total of two dice: {total}\")\n",
        "\n",
        "def main():\n",
        "  die1: int = 10\n",
        "  print(f\"die1 in main at start: {str(die1)}\")\n",
        "  roll_dice()\n",
        "  roll_dice()\n",
        "  roll_dice()\n",
        "  print(f\"die1 in main: {str(die1)}\")\n",
        "\n",
        "if __name__ == \"__main__\":\n",
        "  main()"
      ],
      "metadata": {
        "colab": {
          "base_uri": "https://localhost:8080/"
        },
        "id": "SRgXR-HpVnEX",
        "outputId": "889beddf-6fd6-4721-8aa9-3b329ed49ab3"
      },
      "execution_count": null,
      "outputs": [
        {
          "output_type": "stream",
          "name": "stdout",
          "text": [
            "die1 in main at start: 10\n",
            "Total of two dice: 7\n",
            "Total of two dice: 8\n",
            "Total of two dice: 3\n",
            "die1 in main: 10\n"
          ]
        }
      ]
    },
    {
      "cell_type": "markdown",
      "source": [
        "##02_e=mc2"
      ],
      "metadata": {
        "id": "xc4mADo-aWyH"
      }
    },
    {
      "cell_type": "code",
      "source": [
        "C: int = 299792458\n",
        "def main():\n",
        "  mass_in_kg: float = float(input(\"Enter mass in kilograms: \"))\n",
        "  energy_in_joules = mass_in_kg * (C ** 2)\n",
        "  print(\"e = m * C^2\")\n",
        "  print(f\"m = {str(mass_in_kg)} kg\")\n",
        "  print(f\"C = {str(C)} m/s\")\n",
        "  print(f\"{str(energy_in_joules)} joules of energy!\")\n",
        "\n",
        "if __name__ == \"__main__\":\n",
        "  main()"
      ],
      "metadata": {
        "colab": {
          "base_uri": "https://localhost:8080/"
        },
        "id": "_DQdF55YZ3Go",
        "outputId": "0bf8bd82-435d-4da5-874d-a080925a10f6"
      },
      "execution_count": null,
      "outputs": [
        {
          "output_type": "stream",
          "name": "stdout",
          "text": [
            "Enter mass in kilograms: 55\n",
            "e = m * C^2\n",
            "m = 55.0 kg\n",
            "C = 299792458 m/s\n",
            "4.943153483052497e+18 joules of energy!\n"
          ]
        }
      ]
    },
    {
      "cell_type": "markdown",
      "source": [
        "##03_feet_to_inches"
      ],
      "metadata": {
        "id": "jb-IIEdLcUro"
      }
    },
    {
      "cell_type": "code",
      "source": [
        "feet_in_inches: int = 12\n",
        "\n",
        "def main():\n",
        "  feet: float = float(input(\"Enter number of feet: \"))\n",
        "  feet_to_inches: float = feet * feet_in_inches\n",
        "  print(f\"{feet} feet = {feet_to_inches} inches!\")\n",
        "\n",
        "if __name__ == \"__main__\":\n",
        "  main()"
      ],
      "metadata": {
        "colab": {
          "base_uri": "https://localhost:8080/"
        },
        "id": "-SxH5Z-dcH8Y",
        "outputId": "b454f956-bb07-4912-a38b-5cfea908ebec"
      },
      "execution_count": null,
      "outputs": [
        {
          "output_type": "stream",
          "name": "stdout",
          "text": [
            "Enter number of feet: 5.5\n",
            "5.5 feet = 66.0 inches!\n"
          ]
        }
      ]
    },
    {
      "cell_type": "markdown",
      "source": [
        "##04_pythagorean_theorem"
      ],
      "metadata": {
        "id": "aSRYiXAreLyX"
      }
    },
    {
      "cell_type": "code",
      "source": [
        "import math\n",
        "\n",
        "def main():\n",
        "  ab: float = float(input(\"Enter the length of AB: \"))\n",
        "  ac: float = float(input(\"Enter the length of AC: \"))\n",
        "\n",
        "  bc: float = math.sqrt(ab ** 2 + ac ** 2)\n",
        "  print(f\"The length of BC (the hypotenuse) is: {str(bc)}\")\n",
        "\n",
        "if __name__ == \"__main__\":\n",
        "  main()"
      ],
      "metadata": {
        "colab": {
          "base_uri": "https://localhost:8080/"
        },
        "id": "BrmjhDxldcNX",
        "outputId": "e0ba6d6b-4f1f-4533-94bc-a6039685fad6"
      },
      "execution_count": null,
      "outputs": [
        {
          "output_type": "stream",
          "name": "stdout",
          "text": [
            "Enter the length of AB: 12\n",
            "Enter the length of AC: 5\n",
            "The length of BC (the hypotenuse) is: 13.0\n"
          ]
        }
      ]
    },
    {
      "cell_type": "markdown",
      "source": [
        "##05_remainder_division"
      ],
      "metadata": {
        "id": "20EhiU5-feQX"
      }
    },
    {
      "cell_type": "code",
      "source": [
        "def main():\n",
        "  num1: int = int(input(\"Please enter an integer to be divided: \"))\n",
        "  num2: int = int(input(\"Please enter an integer to divide by: \"))\n",
        "  qoutient: int = num1 // num2\n",
        "  remainder: int = num1 % num2\n",
        "  print(f\"The result of the division is {str(qoutient)} with a remainder of {str(remainder)}\")\n",
        "\n",
        "if __name__ == \"__main__\":\n",
        "  main()"
      ],
      "metadata": {
        "colab": {
          "base_uri": "https://localhost:8080/"
        },
        "id": "kNXZehgtfJ13",
        "outputId": "27947923-9a6a-4f56-f0c3-c6bb53b8fbe9"
      },
      "execution_count": null,
      "outputs": [
        {
          "output_type": "stream",
          "name": "stdout",
          "text": [
            "Please enter an integer to be divided: 66\n",
            "Please enter an integer to divide by: 8\n",
            "The result of the division is 8 with a remainder of 2\n"
          ]
        }
      ]
    },
    {
      "cell_type": "markdown",
      "source": [
        "##06_rolldice"
      ],
      "metadata": {
        "id": "i43kQ_43hVAP"
      }
    },
    {
      "cell_type": "code",
      "source": [
        "import random\n",
        "\n",
        "num_sides: int = 6\n",
        "def main():\n",
        "  die1: int = random.randint(1, num_sides)\n",
        "  die2: int = random.randint(1, num_sides)\n",
        "\n",
        "  total_of_dice: int = die1 + die2\n",
        "\n",
        "  print(f\"Each dice have {num_sides} sides\")\n",
        "  print(f\"First die: {die1}\")\n",
        "  print(f\"Second die: {die2}\")\n",
        "  print(f\"Total of dice: {total_of_dice}\")\n",
        "\n",
        "if __name__ == \"__main__\":\n",
        "  main()"
      ],
      "metadata": {
        "colab": {
          "base_uri": "https://localhost:8080/"
        },
        "id": "6aSuy5q7gkEP",
        "outputId": "4ed23d89-5741-4701-da30-1f6dfef73405"
      },
      "execution_count": null,
      "outputs": [
        {
          "output_type": "stream",
          "name": "stdout",
          "text": [
            "Each dice have 6 sides\n",
            "First die: 2\n",
            "Second die: 4\n",
            "Total of dice: 6\n"
          ]
        }
      ]
    },
    {
      "cell_type": "markdown",
      "source": [
        "##06_seconds_in_year."
      ],
      "metadata": {
        "id": "2Ah5MoA5jIRn"
      }
    },
    {
      "cell_type": "code",
      "source": [
        "days_per_year: int = 365\n",
        "hours_per_day: int = 24\n",
        "minutes_per_hour: int = 60\n",
        "second_per_minute: int = 60\n",
        "\n",
        "def main():\n",
        "  print(f\"There are {str(days_per_year * hours_per_day * minutes_per_hour * second_per_minute)} seconds in a year!\")\n",
        "\n",
        "if __name__ == \"__main__\":\n",
        "  main()"
      ],
      "metadata": {
        "colab": {
          "base_uri": "https://localhost:8080/"
        },
        "id": "Mj2kdvmwiui3",
        "outputId": "b45922d0-e962-4abb-c9e0-ee69465af6e2"
      },
      "execution_count": null,
      "outputs": [
        {
          "output_type": "stream",
          "name": "stdout",
          "text": [
            "There are 31536000 seconds in a year!\n"
          ]
        }
      ]
    },
    {
      "cell_type": "markdown",
      "source": [
        "##07_tiny_mad_lib"
      ],
      "metadata": {
        "id": "SDDSw6LFqd2-"
      }
    },
    {
      "cell_type": "code",
      "source": [
        "def main():\n",
        "  adjective: str = input(\"Type adjective and press enter: \")\n",
        "  noun: str = input(\"Type noun and press enter: \")\n",
        "  verb: str = input(\"Type verb and press enter: \")\n",
        "\n",
        "  print(f\"A {adjective} student start learning Python under the custody of {noun} with full {verb} on it\")\n",
        "\n",
        "if __name__ == \"__main__\":\n",
        "  main()"
      ],
      "metadata": {
        "colab": {
          "base_uri": "https://localhost:8080/"
        },
        "id": "NSn6tQS7j1S_",
        "outputId": "6a821e1d-0daa-4bc1-8845-36dc7dbfba71"
      },
      "execution_count": null,
      "outputs": [
        {
          "output_type": "stream",
          "name": "stdout",
          "text": [
            "Type adjective and press enter: charmful\n",
            "Type noun and press enter: China\n",
            "Type verb and press enter: laugh\n",
            "A charmful student start learning Python under the custody of China with full laugh on it\n"
          ]
        }
      ]
    }
  ]
}