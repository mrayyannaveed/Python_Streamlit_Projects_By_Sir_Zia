{
  "nbformat": 4,
  "nbformat_minor": 0,
  "metadata": {
    "colab": {
      "provenance": []
    },
    "kernelspec": {
      "name": "python3",
      "display_name": "Python 3"
    },
    "language_info": {
      "name": "python"
    }
  },
  "cells": [
    {
      "cell_type": "markdown",
      "source": [
        "#**02_lists**\n",
        "##01_add_many_number"
      ],
      "metadata": {
        "id": "sxukwSPgxb_p"
      }
    },
    {
      "cell_type": "code",
      "execution_count": null,
      "metadata": {
        "colab": {
          "base_uri": "https://localhost:8080/"
        },
        "id": "N8NF_FnvxYnw",
        "outputId": "181741ad-964e-4ffe-e87a-0931e77550b7"
      },
      "outputs": [
        {
          "output_type": "stream",
          "name": "stdout",
          "text": [
            "21\n"
          ]
        }
      ],
      "source": [
        "def add_many_numbers(numbers) -> int:\n",
        "  total: int = 0\n",
        "  for number in numbers:\n",
        "    total += number\n",
        "\n",
        "  return total\n",
        "\n",
        "def main():\n",
        "  numbers: list[int] = [1, 2, 3, 4, 5, 6]\n",
        "  sum_of_numbers: int = add_many_numbers(numbers)\n",
        "  print(sum_of_numbers)\n",
        "if __name__ == \"__main__\":\n",
        "  main()"
      ]
    },
    {
      "cell_type": "markdown",
      "source": [
        "##02_double_list"
      ],
      "metadata": {
        "id": "474IjChw8I5p"
      }
    },
    {
      "cell_type": "code",
      "source": [
        "def main():\n",
        "  numbers: list[int] = [1, 2, 3, 4, 5, 6]\n",
        "  for i in range(len(numbers)):\n",
        "    num_at_index = numbers[i]\n",
        "    numbers[i] = num_at_index * 2\n",
        "\n",
        "  print(numbers)\n",
        "if __name__ == \"__main__\":\n",
        "  main()"
      ],
      "metadata": {
        "colab": {
          "base_uri": "https://localhost:8080/"
        },
        "id": "Qi0oBQ-D8MAY",
        "outputId": "85127821-5596-4a88-aff1-3e7668a8982f"
      },
      "execution_count": null,
      "outputs": [
        {
          "output_type": "stream",
          "name": "stdout",
          "text": [
            "[2, 4, 6, 8, 10, 12]\n"
          ]
        }
      ]
    },
    {
      "cell_type": "markdown",
      "source": [
        "##03_erase_canvas"
      ],
      "metadata": {
        "id": "FratipXh89FR"
      }
    },
    {
      "cell_type": "markdown",
      "source": [
        "##04_flowing_with_data_structures"
      ],
      "metadata": {
        "id": "LPV2OfFM-vLh"
      }
    },
    {
      "cell_type": "code",
      "source": [
        "def add_three_copies(my_list, data):\n",
        "  for i in range(3):\n",
        "    my_list.append(data)\n",
        "\n",
        "def main():\n",
        "  message: str = input(\"Enter a message to copy: \")\n",
        "  my_list = []\n",
        "  print(\"List before appending: \",my_list)\n",
        "  add_three_copies(my_list, message)\n",
        "  print(\"List after appending: \",my_list)\n",
        "if __name__ == \"__main__\":\n",
        "  main()"
      ],
      "metadata": {
        "colab": {
          "base_uri": "https://localhost:8080/"
        },
        "id": "lLK7-_q68-7o",
        "outputId": "2ce161c7-9841-4faa-f09c-68e6e34e7e34"
      },
      "execution_count": null,
      "outputs": [
        {
          "output_type": "stream",
          "name": "stdout",
          "text": [
            "Enter a message to copy: Islamabad\n",
            "List before appending:  []\n",
            "List after appending:  ['Islamabad', 'Islamabad', 'Islamabad']\n"
          ]
        }
      ]
    },
    {
      "cell_type": "markdown",
      "source": [
        "##05_get_first_element."
      ],
      "metadata": {
        "id": "fvr4J4dSAEri"
      }
    },
    {
      "cell_type": "code",
      "source": [
        "def get_first_element(lst):\n",
        "  print(lst[0])\n",
        "\n",
        "def get_lst():\n",
        "  lst = []\n",
        "  element: str = input(\"Enter an element of the list or press enter to exit: \")\n",
        "  while element != \"\":\n",
        "    lst.append(element)\n",
        "    element: str = input(\"Enter an element of the list or press enter to exit: \")\n",
        "\n",
        "  return lst\n",
        "\n",
        "def main():\n",
        "  lst = get_lst()\n",
        "  get_first_element(lst)\n",
        "\n",
        "if __name__ == \"__main__\":\n",
        "  main()"
      ],
      "metadata": {
        "colab": {
          "base_uri": "https://localhost:8080/"
        },
        "id": "fAKZjytmAFbh",
        "outputId": "bacf6094-c590-4b0d-82e4-1a57b754f7b1"
      },
      "execution_count": null,
      "outputs": [
        {
          "output_type": "stream",
          "name": "stdout",
          "text": [
            "Enter an element of the list or press enter to exit: Apple\n",
            "Enter an element of the list or press enter to exit: Mango\n",
            "Enter an element of the list or press enter to exit: Banana\n",
            "Enter an element of the list or press enter to exit: \n",
            "Apple\n"
          ]
        }
      ]
    },
    {
      "cell_type": "markdown",
      "source": [
        "##06_get_last_element."
      ],
      "metadata": {
        "id": "sBGHH5UJCv5j"
      }
    },
    {
      "cell_type": "code",
      "source": [
        "def get_last_element(lst):\n",
        "  print(lst[-1])\n",
        "\n",
        "def get_lst():\n",
        "  lst = []\n",
        "  element: str = input(\"Enter an element of the list or press enter to exit: \")\n",
        "  while element != \"\":\n",
        "    lst.append(element)\n",
        "    element: str = input(\"Enter an element of the list or press enter to exit: \")\n",
        "\n",
        "  return lst\n",
        "\n",
        "def main():\n",
        "  lst = get_lst()\n",
        "  get_last_element(lst)\n",
        "\n",
        "if __name__ == \"__main__\":\n",
        "  main()"
      ],
      "metadata": {
        "colab": {
          "base_uri": "https://localhost:8080/"
        },
        "id": "xksOjbNSCxDC",
        "outputId": "dd56231d-0c81-4b91-f287-35d2218c10a6"
      },
      "execution_count": null,
      "outputs": [
        {
          "output_type": "stream",
          "name": "stdout",
          "text": [
            "Enter an element of the list or press enter to exit: Apple\n",
            "Enter an element of the list or press enter to exit: Mango\n",
            "Enter an element of the list or press enter to exit: Watermelon\n",
            "Enter an element of the list or press enter to exit: \n",
            "Watermelon\n"
          ]
        }
      ]
    },
    {
      "cell_type": "markdown",
      "source": [],
      "metadata": {
        "id": "ljhpWdMGCVGy"
      }
    },
    {
      "cell_type": "markdown",
      "source": [
        "##07_get_list"
      ],
      "metadata": {
        "id": "BuSJXSghChUZ"
      }
    },
    {
      "cell_type": "code",
      "source": [
        "def main():\n",
        "  lst = []\n",
        "  val = input(\"Enter a value: \")\n",
        "  while val:\n",
        "    lst.append(val)\n",
        "    val = input(\"Enter a value: \")\n",
        "\n",
        "  print(\"Here's the list :\",lst)\n",
        "\n",
        "if __name__ == \"__main__\":\n",
        "  main()"
      ],
      "metadata": {
        "colab": {
          "base_uri": "https://localhost:8080/"
        },
        "id": "8kXau7_XCre6",
        "outputId": "e33e541c-fd09-44f8-9a89-dd7c34539f18"
      },
      "execution_count": null,
      "outputs": [
        {
          "output_type": "stream",
          "name": "stdout",
          "text": [
            "Enter a value: 1\n",
            "Enter a value: 2\n",
            "Enter a value: 3\n",
            "Enter a value: 4\n",
            "Enter a value: 5\n",
            "Enter a value: \n",
            "Here's the list : ['1', '2', '3', '4', '5']\n"
          ]
        }
      ]
    },
    {
      "cell_type": "markdown",
      "source": [
        "##08_shorten"
      ],
      "metadata": {
        "id": "1ih8onKiIVPE"
      }
    },
    {
      "cell_type": "code",
      "source": [
        "max_length: int = 4\n",
        "def shorten(lst):\n",
        "  while len(lst) > max_length:\n",
        "    last_element = lst.pop()\n",
        "    print(last_element)\n",
        "\n",
        "def get_lst():\n",
        "  lst = []\n",
        "  element = input(\"Enter an element of the list or press enter to exit: \")\n",
        "  while element:\n",
        "    lst.append(element)\n",
        "    element = input(\"Enter an  element of the list or press enter to exit: \")\n",
        "\n",
        "  return lst\n",
        "\n",
        "def main():\n",
        "  lst = get_lst()\n",
        "  shorten(lst)\n",
        "\n",
        "if __name__ == \"__main__\":\n",
        "  main()"
      ],
      "metadata": {
        "colab": {
          "base_uri": "https://localhost:8080/"
        },
        "id": "9HFnhBrLIWLL",
        "outputId": "88a2e858-c189-4588-bc04-8e1e5985fdd9"
      },
      "execution_count": null,
      "outputs": [
        {
          "output_type": "stream",
          "name": "stdout",
          "text": [
            "Enter an element of the list or press enter to exit: Java\n",
            "Enter an  element of the list or press enter to exit: Typescript\n",
            "Enter an  element of the list or press enter to exit: Python\n",
            "Enter an  element of the list or press enter to exit: MySql\n",
            "Enter an  element of the list or press enter to exit: C\n",
            "Enter an  element of the list or press enter to exit: Ruby\n",
            "Enter an  element of the list or press enter to exit: \n",
            "Ruby\n",
            "C\n"
          ]
        }
      ]
    }
  ]
}