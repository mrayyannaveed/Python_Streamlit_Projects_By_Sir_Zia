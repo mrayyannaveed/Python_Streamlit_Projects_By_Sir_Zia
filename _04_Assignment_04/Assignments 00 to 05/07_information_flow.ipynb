{
  "nbformat": 4,
  "nbformat_minor": 0,
  "metadata": {
    "colab": {
      "provenance": []
    },
    "kernelspec": {
      "name": "python3",
      "display_name": "Python 3"
    },
    "language_info": {
      "name": "python"
    }
  },
  "cells": [
    {
      "cell_type": "markdown",
      "source": [
        "#07_information_flow\n",
        "##00_choosing_returns"
      ],
      "metadata": {
        "id": "XooGX6S1v8VN"
      }
    },
    {
      "cell_type": "code",
      "execution_count": 2,
      "metadata": {
        "colab": {
          "base_uri": "https://localhost:8080/"
        },
        "id": "rSHIS05luNed",
        "outputId": "484bd5c4-1ec1-4866-c0d1-e086b427e597"
      },
      "outputs": [
        {
          "output_type": "stream",
          "name": "stdout",
          "text": [
            "How old's are you?: 20\n",
            "True\n"
          ]
        }
      ],
      "source": [
        "adult_age: int = 18\n",
        "\n",
        "def is_adult(age):\n",
        "  if age >= adult_age:\n",
        "    return True\n",
        "\n",
        "  return False\n",
        "\n",
        "def main():\n",
        "  age = int(input(\"How old's are you?: \"))\n",
        "  print(is_adult(age))\n",
        "\n",
        "if __name__ == \"__main__\":\n",
        "  main()"
      ]
    },
    {
      "cell_type": "markdown",
      "source": [
        "##01_greetings"
      ],
      "metadata": {
        "id": "d-zPNfGzxHca"
      }
    },
    {
      "cell_type": "code",
      "source": [
        "def main():\n",
        "  name: str = input(\"What's your name: \")\n",
        "  print(greet(name))\n",
        "\n",
        "def greet(name):\n",
        "  return f\"Greetings {name}!\"\n",
        "\n",
        "if __name__ == \"__main__\":\n",
        "  main()"
      ],
      "metadata": {
        "colab": {
          "base_uri": "https://localhost:8080/"
        },
        "id": "nrxtNlhMxIIi",
        "outputId": "9b553d4c-3d33-4b5a-c0a2-d7ce63aa1114"
      },
      "execution_count": 4,
      "outputs": [
        {
          "output_type": "stream",
          "name": "stdout",
          "text": [
            "What's your name: Muhammad Rayyan\n",
            "Greetings Muhammad Rayyan!\n"
          ]
        }
      ]
    },
    {
      "cell_type": "markdown",
      "source": [
        "##02_in_range"
      ],
      "metadata": {
        "id": "nm7v5JnXzDSS"
      }
    },
    {
      "cell_type": "code",
      "source": [
        "def in_range(n, low, high):\n",
        "  if n >= low and n <= high:\n",
        "    return True\n",
        "\n",
        "  return False\n",
        "\n",
        "def main():\n",
        "  print(in_range(10,1,12))\n",
        "if __name__ == \"__main__\":\n",
        "  main()"
      ],
      "metadata": {
        "colab": {
          "base_uri": "https://localhost:8080/"
        },
        "id": "rh5c9zQRzD8x",
        "outputId": "63d75f4b-ca1f-4ab0-8704-857123caa1af"
      },
      "execution_count": 7,
      "outputs": [
        {
          "output_type": "stream",
          "name": "stdout",
          "text": [
            "True\n"
          ]
        }
      ]
    },
    {
      "cell_type": "markdown",
      "source": [
        "##03_in_stock"
      ],
      "metadata": {
        "id": "mFIsS2eE0pMB"
      }
    },
    {
      "cell_type": "code",
      "source": [
        "def main():\n",
        "  fruit = input(\"Enter a fruit: \")\n",
        "  stock = num_in_stock(fruit)\n",
        "  if stock == 0:\n",
        "    print(f\"{fruit} is not in stock!\")\n",
        "  else:\n",
        "    print(f\"Here is how many {fruit} is in the stock: \")\n",
        "    print(stock)\n",
        "\n",
        "def num_in_stock(fruit):\n",
        "  if fruit == \"mango\":\n",
        "    return 10\n",
        "  if fruit == \"watermelon\":\n",
        "    return 5\n",
        "  if fruit == \"banana\":\n",
        "    return 2\n",
        "  else:\n",
        "    return 0\n",
        "\n",
        "if __name__ == \"__main__\":\n",
        "  main()"
      ],
      "metadata": {
        "colab": {
          "base_uri": "https://localhost:8080/"
        },
        "id": "sjyRa95s0qGY",
        "outputId": "ea3d7339-91fe-4fac-f8a1-8dd937e43335"
      },
      "execution_count": 11,
      "outputs": [
        {
          "output_type": "stream",
          "name": "stdout",
          "text": [
            "Enter a fruit: mango\n",
            "Here is how many mango is in the stock: \n",
            "10\n"
          ]
        }
      ]
    },
    {
      "cell_type": "markdown",
      "source": [
        "##04_multiple_returns"
      ],
      "metadata": {
        "id": "VTCYG7Ma4GEI"
      }
    },
    {
      "cell_type": "code",
      "source": [
        "def get_user_info():\n",
        "  first_name: str = input(\"What is your first name?: \")\n",
        "  last_name: str = input(\"What is your last name?: \")\n",
        "  email_address: str = input(\"What is your email address?: \")\n",
        "\n",
        "  return first_name, last_name, email_address\n",
        "\n",
        "def main():\n",
        "  user_data = get_user_info()\n",
        "  print(f\"Received the following user data: {user_data}\")\n",
        "\n",
        "if __name__ == \"__main__\":\n",
        "  main()"
      ],
      "metadata": {
        "colab": {
          "base_uri": "https://localhost:8080/"
        },
        "id": "Uj85Bgqb4Gv3",
        "outputId": "622fda85-9537-46c7-a3be-dd3f6bb3c274"
      },
      "execution_count": 14,
      "outputs": [
        {
          "output_type": "stream",
          "name": "stdout",
          "text": [
            "What is your first name?: Muhammad Rayyan\n",
            "What is your last name?: Naveed\n",
            "What is your email address?: rayyan0123@gmail.com\n",
            "Received the following user data: ('Muhammad Rayyan', 'Naveed', 'rayyan0123@gmail.com')\n"
          ]
        }
      ]
    },
    {
      "cell_type": "markdown",
      "source": [
        "##05_subtract_7"
      ],
      "metadata": {
        "id": "-vZ6rUb_6sWW"
      }
    },
    {
      "cell_type": "code",
      "source": [
        "def main():\n",
        "  num: int = 7\n",
        "  num = subtract_seven(num)\n",
        "  print(f\"This should be zero {num}\")\n",
        "\n",
        "def subtract_seven(num):\n",
        "  num = num - 7\n",
        "  return num\n",
        "\n",
        "if __name__ == \"__main__\":\n",
        "  main()\n"
      ],
      "metadata": {
        "colab": {
          "base_uri": "https://localhost:8080/"
        },
        "id": "dAhjglWI6tHl",
        "outputId": "b38ed8d7-1c3a-4fdc-c66f-dfbda7fff51c"
      },
      "execution_count": 1,
      "outputs": [
        {
          "output_type": "stream",
          "name": "stdout",
          "text": [
            "This should be zero 0\n"
          ]
        }
      ]
    }
  ]
}