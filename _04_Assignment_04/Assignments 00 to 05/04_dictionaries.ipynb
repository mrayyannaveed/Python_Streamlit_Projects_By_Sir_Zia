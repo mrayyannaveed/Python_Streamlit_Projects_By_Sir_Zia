{
  "nbformat": 4,
  "nbformat_minor": 0,
  "metadata": {
    "colab": {
      "provenance": []
    },
    "kernelspec": {
      "name": "python3",
      "display_name": "Python 3"
    },
    "language_info": {
      "name": "python"
    }
  },
  "cells": [
    {
      "cell_type": "markdown",
      "source": [
        "#04_dictionaries\n",
        "##00_count_nums"
      ],
      "metadata": {
        "id": "I8Ykmi_GymNx"
      }
    },
    {
      "cell_type": "code",
      "execution_count": 2,
      "metadata": {
        "colab": {
          "base_uri": "https://localhost:8080/"
        },
        "id": "GVaSE_BUykpl",
        "outputId": "fec6915f-e2ab-446e-9175-0f6812ab0c2b"
      },
      "outputs": [
        {
          "output_type": "stream",
          "name": "stdout",
          "text": [
            "Enter a number: 10\n",
            "Enter a number: 5\n",
            "Enter a number: 12\n",
            "Enter a number: 10\n",
            "Enter a number: 19\n",
            "Enter a number: 5\n",
            "Enter a number: 10\n",
            "Enter a number: 12\n",
            "Enter a number: 10\n",
            "Enter a number: 5\n",
            "Enter a number: \n",
            "10 appears 4 times.\n",
            "5 appears 3 times.\n",
            "12 appears 2 times.\n",
            "19 appears 1 times.\n"
          ]
        }
      ],
      "source": [
        "def get_user_numbers():\n",
        "  user_numbers = []\n",
        "  while True:\n",
        "    value = input(\"Enter a number: \")\n",
        "    if value == \"\":\n",
        "      break\n",
        "    num = int(value)\n",
        "    user_numbers.append(num)\n",
        "\n",
        "  return user_numbers\n",
        "\n",
        "def count_numbers(num_list):\n",
        "  num_dict = {}\n",
        "  for num in num_list:\n",
        "    if num not in num_dict:\n",
        "      num_dict[num] = 1\n",
        "    else:\n",
        "      num_dict[num] += 1\n",
        "\n",
        "  return num_dict\n",
        "\n",
        "def print_count(num_dict):\n",
        "  for num in num_dict:\n",
        "    print(f\"{str(num)} appears {str(num_dict[num])} times.\")\n",
        "\n",
        "def main():\n",
        "  user_numbers = get_user_numbers()\n",
        "  num_dicts = count_numbers(user_numbers)\n",
        "  print_count(num_dicts)\n",
        "\n",
        "if __name__ == \"__main__\":\n",
        "  main()"
      ]
    },
    {
      "cell_type": "markdown",
      "source": [
        "##01_phonebook"
      ],
      "metadata": {
        "id": "Y8DUCnje4Avi"
      }
    },
    {
      "cell_type": "code",
      "source": [
        "def read_phone_numbers():\n",
        "  phonebook = {}\n",
        "  while True:\n",
        "    name = input(\"Name: \")\n",
        "    if name == \"\":\n",
        "      break\n",
        "    number = input(\"Number: \")\n",
        "    phonebook[name] = number\n",
        "\n",
        "  return phonebook\n",
        "\n",
        "  return read_phone_numbers\n",
        "\n",
        "def print_phonebook(phonebook):\n",
        "  for name in phonebook:\n",
        "    print(f\"{str(name)} -> {str(phonebook[name])}\")\n",
        "\n",
        "def lookup_numbers(phonebook):\n",
        "  while True:\n",
        "    name = input(\"Name: \")\n",
        "    if name == \"\":\n",
        "      break\n",
        "\n",
        "    if name not in phonebook:\n",
        "      print(f\"{name} is not in the phonebook.\")\n",
        "    else:\n",
        "      print(phonebook[name])\n",
        "\n",
        "def main():\n",
        "  phonebook = read_phone_numbers()\n",
        "  print_phonebook(phonebook)\n",
        "  lookup_numbers(phonebook)\n",
        "\n",
        "if __name__ == \"__main__\":\n",
        "  main()"
      ],
      "metadata": {
        "colab": {
          "base_uri": "https://localhost:8080/"
        },
        "id": "bVRs58UC4Bex",
        "outputId": "713416db-dbf7-494c-82bc-f3a4e7b0fd87"
      },
      "execution_count": 4,
      "outputs": [
        {
          "name": "stdout",
          "output_type": "stream",
          "text": [
            "Name: Sajid\n",
            "Number: 03457898652\n",
            "Name: Zohaib\n",
            "Number: 03232145659\n",
            "Name: Shayan\n",
            "Number: 03162587413\n",
            "Name: Saim\n",
            "Number: 03500400888\n",
            "Name: \n",
            "Sajid -> 03457898652\n",
            "Zohaib -> 03232145659\n",
            "Shayan -> 03162587413\n",
            "Saim -> 03500400888\n",
            "Name: Saim\n",
            "03500400888\n",
            "Name: Shayn\n",
            "Shayn is not in the phonebook.\n",
            "Name: Shayan\n",
            "03162587413\n",
            "Name: \n"
          ]
        }
      ]
    },
    {
      "cell_type": "markdown",
      "source": [
        "##02_pop_up_shop"
      ],
      "metadata": {
        "id": "UxU2g5ozKmtS"
      }
    },
    {
      "cell_type": "code",
      "source": [
        "def main():\n",
        "  fruits = {\"mango\": 80, \"apple\": 100, \"watermelon\": 50, \"chiko\": 70}\n",
        "\n",
        "  total_cost = 0\n",
        "  for fruit_name in fruits:\n",
        "    price = fruits[fruit_name]\n",
        "    amount_bought = int(input(f\"How many {str(fruit_name)} do you want to buy?: \"))\n",
        "    total_cost += (price * amount_bought)\n",
        "\n",
        "  print(f\"Your total is ${str(total_cost)}\")\n",
        "\n",
        "if __name__ == \"__main__\":\n",
        "  main()"
      ],
      "metadata": {
        "colab": {
          "base_uri": "https://localhost:8080/"
        },
        "id": "5RuoFzaFKnYZ",
        "outputId": "ff5d0305-c383-4637-cb6c-2327513b9332"
      },
      "execution_count": 5,
      "outputs": [
        {
          "output_type": "stream",
          "name": "stdout",
          "text": [
            "How many mango do you want to buy?: 2\n",
            "How many apple do you want to buy?: 0\n",
            "How many watermelon do you want to buy?: 3\n",
            "How many chiko do you want to buy?: 10\n",
            "Your total is $1010\n"
          ]
        }
      ]
    },
    {
      "cell_type": "markdown",
      "source": [
        "##03_powerful_passwords"
      ],
      "metadata": {
        "id": "Stzf7tT1XPLq"
      }
    },
    {
      "cell_type": "code",
      "source": [
        "from hashlib import sha256\n",
        "\n",
        "def login(email, stored_logins, password_to_check):\n",
        "  if stored_logins[email] == hash_password(password_to_check):\n",
        "    return True\n",
        "  return False\n",
        "\n",
        "def hash_password(password):\n",
        "  return sha256(password.encode()).hexdigest()\n",
        "\n",
        "def main():\n",
        "  stored_logins = {\n",
        "        \"example@gmail.com\": \"5e884898da28047151d0e56f8dc6292773603d0d6aabbdd62a11ef721d1542d8\",\n",
        "        \"code_in_placer@cip.org\": \"973607a4ae7b4cf7d96a100b0fb07e8519cc4f70441d41214a9f811577bb06cc\",\n",
        "        \"student@stanford.edu\": \"882c6df720fd99f5eebb1581a1cf975625cea8a160283011c0b9512bb56c95fb\"\n",
        "    }\n",
        "\n",
        "  print(login(\"example@gmail.com\", stored_logins, \"word\"))\n",
        "  print(login(\"example@gmail.com\", stored_logins, \"password\"))\n",
        "\n",
        "  print(login(\"code_in_placer@cip.org\", stored_logins, \"Karel\"))\n",
        "  print(login(\"code_in_placer@cip.org\", stored_logins, \"karel\"))\n",
        "\n",
        "  print(login(\"student@stanford.edu\", stored_logins, \"password\"))\n",
        "  print(login(\"student@stanford.edu\", stored_logins, \"123!456?789\"))\n",
        "\n",
        "if __name__ == \"__main__\":\n",
        "  main()"
      ],
      "metadata": {
        "colab": {
          "base_uri": "https://localhost:8080/"
        },
        "id": "zAqiHXYoXP9Y",
        "outputId": "98fb2437-c137-4bc1-b297-eb0f1b9b78a0"
      },
      "execution_count": 7,
      "outputs": [
        {
          "output_type": "stream",
          "name": "stdout",
          "text": [
            "False\n",
            "True\n",
            "False\n",
            "True\n",
            "False\n",
            "True\n"
          ]
        }
      ]
    }
  ]
}